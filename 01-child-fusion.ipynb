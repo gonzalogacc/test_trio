{
 "cells": [
  {
   "cell_type": "code",
   "execution_count": 123,
   "metadata": {},
   "outputs": [],
   "source": [
    "import random\n",
    "import math\n",
    "import copy"
   ]
  },
  {
   "cell_type": "code",
   "execution_count": 167,
   "metadata": {},
   "outputs": [],
   "source": [
    "def read_fasta(filename):\n",
    "    sequences=[]\n",
    "    sequence=\"\"\n",
    "    read_id = None\n",
    "    for line in open(filename, 'r'):\n",
    "        if line[0] == \">\":\n",
    "            if read_id is not None:\n",
    "                print(read_id)\n",
    "                sequences.append([read_id, list(sequence)])\n",
    "            read_id = line.strip()\n",
    "            sequence=\"\"\n",
    "        else:\n",
    "            sequence += line.strip()\n",
    "    sequences.append([read_id, list(sequence)])\n",
    "    return sequences\n",
    "\n",
    "def write_genome(filename, genome):\n",
    "    ## Repack the childs chromosomes into strings\n",
    "    outfile = open(filename, 'w')\n",
    "    for cid, seq in genome:\n",
    "        outfile.write(\"%s\\n%s\\n\" %(cid, ''.join(seq)))\n",
    "    outfile.close()\n",
    "    return None\n",
    "\n",
    "def cross(p1, p2):\n",
    "    ## Create a child with one chromosome of each parent for each homolog\n",
    "    child = []\n",
    "    for c in range(len(p1)):\n",
    "        if c % 2 == 0:\n",
    "            child.append(p1[c])\n",
    "        else:\n",
    "            child.append(p2[c])\n",
    "    return child\n",
    "\n",
    "def cross_over(genome, chunks, proportion):\n",
    "    crossed = copy.deepcopy(genome)\n",
    "    for c in range(len(genome)-1):\n",
    "        if c % 2 == 1: continue\n",
    "        chrm = genome[c][1]\n",
    "        homeolog = genome[c+1][1]\n",
    "        \n",
    "        ## Divide chromosomes in n equal parts and swap n at random\n",
    "        chunk_size = int(len(chrm)/chunks)\n",
    "        slices = [[int(chunk_size*x), int(chunk_size+chunk_size*x)-1] for x in range(chunks)]\n",
    "        to_swap = random.sample(slices, math.floor(len(slices)*proportion))\n",
    "        \n",
    "        for s in to_swap:\n",
    "            crossed[c][1][s[0]:s[1]] = homeolog[s[0]:s[1]]\n",
    "            crossed[c+1][1][s[0]:s[1]] = chrm[s[0]:s[1]]\n",
    "        \n",
    "    return crossed"
   ]
  },
  {
   "cell_type": "code",
   "execution_count": 168,
   "metadata": {},
   "outputs": [
    {
     "name": "stdout",
     "output_type": "stream",
     "text": [
      ">Chromosome_1_copy_1\n",
      ">Chromosome_1_copy_2\n",
      ">Chromosome_2_copy_1\n",
      ">Chromosome_1_copy_1\n",
      ">Chromosome_1_copy_2\n",
      ">Chromosome_2_copy_1\n"
     ]
    }
   ],
   "source": [
    "p1 = read_fasta(\"./p1/p1-yeast-chr45.fasta\")\n",
    "p2 = read_fasta(\"./p2/p2-yeast-chr45.fasta\")"
   ]
  },
  {
   "cell_type": "code",
   "execution_count": 172,
   "metadata": {},
   "outputs": [],
   "source": [
    "p1c = cross_over(p1, 3, .9)\n",
    "p2c = cross_over(p2, 3, .9)"
   ]
  },
  {
   "cell_type": "code",
   "execution_count": 174,
   "metadata": {},
   "outputs": [],
   "source": [
    "child = cross(p1c, p2c)\n",
    "write_genome(\"./child/child-yeast-chr45.fasta\", child)"
   ]
  }
 ],
 "metadata": {
  "kernelspec": {
   "display_name": "Python 3",
   "language": "python",
   "name": "python3"
  },
  "language_info": {
   "codemirror_mode": {
    "name": "ipython",
    "version": 3
   },
   "file_extension": ".py",
   "mimetype": "text/x-python",
   "name": "python",
   "nbconvert_exporter": "python",
   "pygments_lexer": "ipython3",
   "version": "3.7.0"
  }
 },
 "nbformat": 4,
 "nbformat_minor": 2
}
