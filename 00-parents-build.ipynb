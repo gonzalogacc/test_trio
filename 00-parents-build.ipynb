{
 "cells": [
  {
   "cell_type": "code",
   "execution_count": 24,
   "metadata": {},
   "outputs": [],
   "source": [
    "using Pseudoseq\n",
    "using BioSequences"
   ]
  },
  {
   "cell_type": "code",
   "execution_count": 25,
   "metadata": {},
   "outputs": [
    {
     "data": {
      "text/plain": [
       "2-element Array{BioSequence{DNAAlphabet{2}},1}:\n",
       " ACACCACACCCACACCACACCCACACACACCACACCCAC…AAAAGTAAACATAAAATAAAGGTAGTAAGTAGCTTTTGG\n",
       " CGTCTCCTCCAAGCCCTGTTGTCTCTTACCCGGATGTTC…AGGGCTAAAGAACAGGGTTTCATTTTCATTTTTTTTTTT"
      ]
     },
     "execution_count": 25,
     "metadata": {},
     "output_type": "execute_result"
    }
   ],
   "source": [
    "chrs = [FASTA.sequence(BioSequence{DNAAlphabet{2}}, record) for record in FASTA.Reader(open(\"./sc288_chr4-5.fasta\", \"r\"))]\n"
   ]
  },
  {
   "cell_type": "code",
   "execution_count": 26,
   "metadata": {},
   "outputs": [
    {
     "name": "stderr",
     "output_type": "stream",
     "text": [
      "┌ Info: Opening FASTA file at: ./p1-yeast-chr45.fasta\n",
      "└ @ Pseudoseq /Users/ggarcia/.julia/packages/Pseudoseq/72NPA/src/build_a_genome/fabrication.jl:12\n",
      "┌ Info: Fabricated 2 chromosomes and written to file\n",
      "└ @ Pseudoseq /Users/ggarcia/.julia/packages/Pseudoseq/72NPA/src/build_a_genome/fabrication.jl:38\n"
     ]
    }
   ],
   "source": [
    "# P1\n",
    "## Create blueprints for each chromosome\n",
    "bps = [plan_chrom(length(chr),2) for chr in chrs]\n",
    "## Add het to the blueprints\n",
    "hbps = [plan_het(bp, .01, 2) for bp in bps] \n",
    "## Fabricate the cromosomes based in the bp\n",
    "fabricate(\"./p1-yeast-chr45.fasta\", hbps[1]=>chrs[1], hbps[2]=>chrs[2])"
   ]
  },
  {
   "cell_type": "code",
   "execution_count": 27,
   "metadata": {},
   "outputs": [
    {
     "name": "stderr",
     "output_type": "stream",
     "text": [
      "┌ Info: Opening FASTA file at: ./p2-yeast-chr45.fasta\n",
      "└ @ Pseudoseq /Users/ggarcia/.julia/packages/Pseudoseq/72NPA/src/build_a_genome/fabrication.jl:12\n",
      "┌ Info: Fabricated 2 chromosomes and written to file\n",
      "└ @ Pseudoseq /Users/ggarcia/.julia/packages/Pseudoseq/72NPA/src/build_a_genome/fabrication.jl:38\n"
     ]
    }
   ],
   "source": [
    "## P2\n",
    "## Create blueprints for each chromosome\n",
    "bps = [plan_chrom(length(chr),2) for chr in chrs]\n",
    "## Add het to the blueprints\n",
    "hbps = [plan_het(bp, .01, 2) for bp in bps] \n",
    "## Fabricate the cromosomes based in the bp\n",
    "fabricate(\"./p2-yeast-chr45.fasta\", hbps[1]=>chrs[1], hbps[2]=>chrs[2])"
   ]
  },
  {
   "cell_type": "code",
   "execution_count": null,
   "metadata": {},
   "outputs": [],
   "source": []
  }
 ],
 "metadata": {
  "kernelspec": {
   "display_name": "Julia 1.1.0",
   "language": "julia",
   "name": "julia-1.1"
  },
  "language_info": {
   "file_extension": ".jl",
   "mimetype": "application/julia",
   "name": "julia",
   "version": "1.1.0"
  }
 },
 "nbformat": 4,
 "nbformat_minor": 2
}
